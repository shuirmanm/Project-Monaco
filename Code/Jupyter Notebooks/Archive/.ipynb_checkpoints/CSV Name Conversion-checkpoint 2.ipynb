{
 "cells": [
  {
   "cell_type": "code",
   "execution_count": 1,
   "id": "f1532c8d-a740-4370-b838-6eff9d87caca",
   "metadata": {},
   "outputs": [
    {
     "name": "stderr",
     "output_type": "stream",
     "text": [
      "/Users/matthewshuirman/opt/anaconda3/lib/python3.9/site-packages/scipy/__init__.py:155: UserWarning: A NumPy version >=1.18.5 and <1.25.0 is required for this version of SciPy (detected version 1.26.0\n",
      "  warnings.warn(f\"A NumPy version >={np_minversion} and <{np_maxversion}\"\n"
     ]
    }
   ],
   "source": [
    "import pandas as pd\n",
    "import seaborn as sns\n",
    "import matplotlib.pyplot as plt\n",
    "import numpy as np\n",
    "import os\n",
    "pd.set_option('display.max_columns', None)"
   ]
  },
  {
   "cell_type": "code",
   "execution_count": 2,
   "id": "73c90a7f-c004-4b2b-9c4c-08170c6f64ff",
   "metadata": {},
   "outputs": [
    {
     "ename": "FileNotFoundError",
     "evalue": "[Errno 2] No such file or directory: '../race_data/preds2'",
     "output_type": "error",
     "traceback": [
      "\u001b[0;31m---------------------------------------------------------------------------\u001b[0m",
      "\u001b[0;31mFileNotFoundError\u001b[0m                         Traceback (most recent call last)",
      "\u001b[0;32m/var/folders/9f/k8zsnj8s6tvdtxxy4pdk0msr0000gn/T/ipykernel_97256/408658024.py\u001b[0m in \u001b[0;36m<module>\u001b[0;34m\u001b[0m\n\u001b[1;32m      2\u001b[0m \u001b[0mtable_list\u001b[0m \u001b[0;34m=\u001b[0m \u001b[0;34m[\u001b[0m\u001b[0;34m]\u001b[0m\u001b[0;34m\u001b[0m\u001b[0;34m\u001b[0m\u001b[0m\n\u001b[1;32m      3\u001b[0m \u001b[0;34m\u001b[0m\u001b[0m\n\u001b[0;32m----> 4\u001b[0;31m \u001b[0;32mfor\u001b[0m \u001b[0mfilename\u001b[0m \u001b[0;32min\u001b[0m \u001b[0mos\u001b[0m\u001b[0;34m.\u001b[0m\u001b[0mlistdir\u001b[0m\u001b[0;34m(\u001b[0m\u001b[0mpath\u001b[0m\u001b[0;34m)\u001b[0m\u001b[0;34m:\u001b[0m\u001b[0;34m\u001b[0m\u001b[0;34m\u001b[0m\u001b[0m\n\u001b[0m\u001b[1;32m      5\u001b[0m \u001b[0;34m\u001b[0m\u001b[0m\n\u001b[1;32m      6\u001b[0m     \u001b[0;32mif\u001b[0m \u001b[0mfilename\u001b[0m\u001b[0;34m.\u001b[0m\u001b[0mendswith\u001b[0m\u001b[0;34m(\u001b[0m\u001b[0;34m'.csv'\u001b[0m\u001b[0;34m)\u001b[0m\u001b[0;34m:\u001b[0m\u001b[0;34m\u001b[0m\u001b[0;34m\u001b[0m\u001b[0m\n",
      "\u001b[0;31mFileNotFoundError\u001b[0m: [Errno 2] No such file or directory: '../race_data/preds2'"
     ]
    }
   ],
   "source": [
    "path = '../../Race Data/preds2'\n",
    "table_list = []\n",
    "\n",
    "for filename in os.listdir(path):\n",
    "\n",
    "    if filename.endswith('.csv'):\n",
    "        table_list.append(filename[:-4])\n",
    "\n",
    "print(table_list)"
   ]
  },
  {
   "cell_type": "code",
   "execution_count": null,
   "id": "76fd41c6-19a5-4b6a-bb1e-3f2979b66bfa",
   "metadata": {},
   "outputs": [],
   "source": [
    "races = pd.read_csv('../Raw Data/Historical Race Data/1950_to_2022_CSVs/races.csv',header = 0,sep = ',')\n",
    "races.head()"
   ]
  },
  {
   "cell_type": "code",
   "execution_count": 4,
   "id": "787a820d-a794-4e1b-9e89-fc6f3a1e7338",
   "metadata": {},
   "outputs": [],
   "source": [
    "raceId_dict = {}\n",
    "\n",
    "raceId_dict['2022'] = {'Singapore': 1091, \n",
    "              'UnitedStates': 1093, \n",
    "              'Canadian': 1082, \n",
    "              'Brazilian': 1095, \n",
    "              'Miami': 1078, \n",
    "              'Azerbaijan': 1081, \n",
    "              'British': 1083, \n",
    "              'Spanish': 1079, \n",
    "              'Australian': 1076, \n",
    "              'Hungarian': 1086, \n",
    "              'Bahrain': 1074, \n",
    "              'Italian': 1089, \n",
    "              'Dutch': 1088, \n",
    "              'Japanese': 1092, \n",
    "              'SaudiArabian': 1075, \n",
    "              'Austrian': 1084, \n",
    "              'Monaco': 1080, \n",
    "              'AbuDhabi': 1096, \n",
    "              'Belgian': 1087, \n",
    "              'MexicoCity': 1094, \n",
    "              'EmiliaRomagna': 1077, \n",
    "              'French': 1085}\n",
    "\n",
    "\n",
    "raceId_dict['2021'] = {'Portuguese': 1054, \n",
    "              'Styrian': 1058, \n",
    "              'Austrian': 1060, \n",
    "              'Brazilian': 1071, \n",
    "              'Azerbaijan': 1057, \n",
    "              'British': 1061, \n",
    "              'Spanish': 1055, \n",
    "              'Hungarian': 1062, \n",
    "              'Bahrain': 1052, \n",
    "              'Italian': 1065, \n",
    "              'Dutch': 1064, \n",
    "              'SaudiArabian': 1072, \n",
    "              'AbuDhabi': 1073, \n",
    "              'Monaco': 1056, \n",
    "              'MexicoCity': 1070, \n",
    "              'Belgian': 1063, \n",
    "              'MexicoCity': 1070, \n",
    "              'EmiliaRomagna': 1053, \n",
    "              'French': 1059,\n",
    "              'Russian': 1066,\n",
    "              'Turkish': 1067,\n",
    "              'UnitedStates': 1069,\n",
    "              'Qatar': 1038}\n",
    "\n",
    "\n",
    "raceId_dict['2020'] = {'Portuguese': 1042, \n",
    "              'Styrian': 1032, \n",
    "              'Austrian': 1031,  \n",
    "              'British': 1034, \n",
    "              'Spanish': 1036, \n",
    "              'Hungarian': 1033, \n",
    "              'Bahrain': 1045, \n",
    "              'Italian': 1038, \n",
    "              'AbuDhabi': 1047, \n",
    "              'Belgian': 1037, \n",
    "              'EmiliaRomagna': 1043, \n",
    "              'Russian': 1040,\n",
    "              'Eifel': 1041,\n",
    "              'Tuscan': 1039, \n",
    "              'Turkish': 1044,  \n",
    "              'Sakhir': 1046, \n",
    "              '70thAnniversary': 1035}   "
   ]
  },
  {
   "cell_type": "code",
   "execution_count": 5,
   "id": "48b48479-0f20-43e2-82b1-6c756260e1b1",
   "metadata": {},
   "outputs": [],
   "source": [
    "\n",
    "\n",
    "for table in table_list:\n",
    "    \n",
    "    df = pd.read_csv('../race_data/preds2/'+table+'.csv',header = 0,sep = ',')\n",
    "    \n",
    "    year = table[5:9]\n",
    "    round = table[15:]\n",
    "    \n",
    "    ID = races.loc[(races['year'] == int(year)) & (races['round'] == int(round)),'raceId'] \n",
    "\n",
    "    for key, value in raceId_dict[str(year)].items():\n",
    "        if value == ID.iloc[0]:\n",
    "            df.to_csv('../Processed Data/Probability Outputs/Mixture Model/'+year+'/'+key+'.csv', index=False)"
   ]
  }
 ],
 "metadata": {
  "kernelspec": {
   "display_name": "Python 3 (ipykernel)",
   "language": "python",
   "name": "python3"
  },
  "language_info": {
   "codemirror_mode": {
    "name": "ipython",
    "version": 3
   },
   "file_extension": ".py",
   "mimetype": "text/x-python",
   "name": "python",
   "nbconvert_exporter": "python",
   "pygments_lexer": "ipython3",
   "version": "3.9.13"
  }
 },
 "nbformat": 4,
 "nbformat_minor": 5
}
